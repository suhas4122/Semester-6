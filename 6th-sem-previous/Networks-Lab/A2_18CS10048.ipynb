{
 "cells": [
  {
   "cell_type": "code",
   "execution_count": 181,
   "metadata": {},
   "outputs": [],
   "source": [
    "#Steps followed\n",
    "#Parsed the xml file\n",
    "#Found the ip addresses of the users which accessed the service via the Internet.org proxy by checking the field of proto\n",
    "#Found countries to which the ip addresses belong\n",
    "#Found the frequencies of each country and created the data.csv file\n",
    "import xmltodict\n",
    "import sys\n",
    "import requests\n",
    "from tqdm import tqdm\n",
    "import csv"
   ]
  },
  {
   "cell_type": "code",
   "execution_count": 182,
   "metadata": {},
   "outputs": [],
   "source": [
    "def open_file(filename):\n",
    "    with open(filename,\"r\") as xml:\n",
    "        xml_dict = xmltodict.parse(xml.read())\n",
    "        xml_.close()\n",
    "    return xml_dict"
   ]
  },
  {
   "cell_type": "code",
   "execution_count": 183,
   "metadata": {},
   "outputs": [
    {
     "name": "stdout",
     "output_type": "stream",
     "text": [
      "Enter filename: http.xml\n"
     ]
    }
   ],
   "source": [
    "filename = input(\"Enter filename: \")           #give name of the xml file, for example \"http.xml\""
   ]
  },
  {
   "cell_type": "code",
   "execution_count": 184,
   "metadata": {},
   "outputs": [
    {
     "name": "stdout",
     "output_type": "stream",
     "text": [
      "File opened\n"
     ]
    }
   ],
   "source": [
    "xml_dict = open_file(filename)       #opening the xml file\n",
    "print(\"File opened\")"
   ]
  },
  {
   "cell_type": "code",
   "execution_count": 185,
   "metadata": {},
   "outputs": [],
   "source": [
    "def find_ips(xml_dict):\n",
    "    ips = {}\n",
    "    for packet in xml_dict['pdml']['packet']:      #iterating on packets\n",
    "        protos = packet['proto']\n",
    "        proxy = False                      \n",
    "        freebasics = False                 \n",
    "        for proto in protos:\n",
    "            fields = proto['field']\n",
    "            for field in fields:\n",
    "                if field['@show'] == 'Via: Internet.org  ':   #flag to check if request if for freebasics\n",
    "                    freebasics = True\n",
    "                if field['@name'] == 'http.x_forwarded_for':  #flag for checking whether the request is through proxy\n",
    "                    proxy = True\n",
    "                    ip_id = field['@show']\n",
    "        if proxy and freebasics :     # count the ip only if both flags satisfied\n",
    "            ips[ip_id] = 1;\n",
    "    print(\"Total ips extracted which uses proxy and freebasics: \",len(ips))\n",
    "    return ips"
   ]
  },
  {
   "cell_type": "code",
   "execution_count": 186,
   "metadata": {},
   "outputs": [
    {
     "name": "stdout",
     "output_type": "stream",
     "text": [
      "Total ips extracted which uses proxy and freebasics:  481\n"
     ]
    }
   ],
   "source": [
    "ips = find_ips(xml_dict)        #finding the required ips from the xml "
   ]
  },
  {
   "cell_type": "code",
   "execution_count": 187,
   "metadata": {},
   "outputs": [],
   "source": [
    "# ips    #list of all the ips"
   ]
  },
  {
   "cell_type": "code",
   "execution_count": 188,
   "metadata": {},
   "outputs": [],
   "source": [
    "def find_countries(ips):\n",
    "    countries = [];\n",
    "    for i in tqdm(ips):\n",
    "        country = requests.get(\"https://geolocation-db.com/json/\"+i+\"&position=true\").json()[\"country_name\"]\n",
    "        countries.append(country)\n",
    "    return countries"
   ]
  },
  {
   "cell_type": "code",
   "execution_count": 189,
   "metadata": {},
   "outputs": [
    {
     "name": "stderr",
     "output_type": "stream",
     "text": [
      "100%|██████████| 481/481 [05:16<00:00,  1.52it/s]\n"
     ]
    }
   ],
   "source": [
    "countries = find_countries(ips)     #finding countries for the extracted ips"
   ]
  },
  {
   "cell_type": "code",
   "execution_count": 190,
   "metadata": {},
   "outputs": [],
   "source": [
    "# countries #list of countries"
   ]
  },
  {
   "cell_type": "code",
   "execution_count": 191,
   "metadata": {},
   "outputs": [],
   "source": [
    "def CountFrequency(countries):   \n",
    "    freq = {} \n",
    "    for item in countries: \n",
    "        if (item in freq): \n",
    "            freq[item] += 1\n",
    "        else: \n",
    "            freq[item] = 1\n",
    "    return freq"
   ]
  },
  {
   "cell_type": "code",
   "execution_count": 192,
   "metadata": {},
   "outputs": [],
   "source": [
    "freq = CountFrequency(countries)    #creating frequency list for the countries"
   ]
  },
  {
   "cell_type": "code",
   "execution_count": 193,
   "metadata": {},
   "outputs": [],
   "source": [
    "with open('data.csv', 'w') as f:        #creating the .csv file\n",
    "    w = csv.DictWriter(f, freq.keys())\n",
    "    w.writeheader()\n",
    "    w.writerow(freq)"
   ]
  },
  {
   "cell_type": "code",
   "execution_count": null,
   "metadata": {},
   "outputs": [],
   "source": []
  }
 ],
 "metadata": {
  "kernelspec": {
   "display_name": "Python 3",
   "language": "python",
   "name": "python3"
  },
  "language_info": {
   "codemirror_mode": {
    "name": "ipython",
    "version": 3
   },
   "file_extension": ".py",
   "mimetype": "text/x-python",
   "name": "python",
   "nbconvert_exporter": "python",
   "pygments_lexer": "ipython3",
   "version": "3.8.2"
  }
 },
 "nbformat": 4,
 "nbformat_minor": 4
}
